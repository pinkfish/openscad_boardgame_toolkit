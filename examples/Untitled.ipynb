{
 "cells": [
  {
   "cell_type": "code",
   "execution_count": 65,
   "id": "5dc04e42-5f27-463e-840e-e6c2b312aec9",
   "metadata": {},
   "outputs": [],
   "source": [
    "from jupyterscad import view\n",
    "from solid2 import cube, cylinder\n",
    "from solid2.extensions.bosl2 import cyl, cuboid, FRONT, LEFT, RIGHT, BACK, BOTTOM\n",
    "\n",
    "def make_divider_tab(tab_height, tab_length, thickness, tab_radius=2, children=None):\n",
    "    \"\"\"\n",
    "    Recreates the MakeDividerTab OpenSCAD module in SolidPython.\n",
    "    \n",
    "    Args:\n",
    "        tab_height (float): The height of the tab.\n",
    "        tab_length (float): The length of the tab.\n",
    "        thickness (float): The thickness of the tab.\n",
    "        tab_radius (float): The radius for rounding.\n",
    "        children (list): A list of SolidPython objects to be subtracted from the tab.\n",
    "    \n",
    "    Returns:\n",
    "        SolidPython object: The final 3D model.\n",
    "    \"\"\"\n",
    "    \n",
    "    if children is None:\n",
    "        children = []\n",
    "\n",
    "    # The main body of the tab\n",
    "    main_body = cuboid([tab_length, tab_height, thickness], rounding=tab_radius,\n",
    "                      edges = [ FRONT + LEFT, FRONT + RIGHT ], anchor = BACK + LEFT + BOTTOM)\n",
    "\n",
    "    # The upper rounded part of the tab, this is the curved edges to join on.\n",
    "    upper_part_shape =            (cuboid([tab_length + tab_radius * 2, tab_radius, thickness], anchor=BACK+LEFT+BOTTOM) -\n",
    "            cyl(r=tab_radius, h=thickness + 5, anchor=BOTTOM).translate([0, -tab_radius, -0.5]) -\n",
    "            cyl(r=tab_radius, h=thickness + 1, anchor=BOTTOM).translate([tab_length + tab_radius * 2, -tab_radius, -0.5])\n",
    "        ).translate([-tab_radius, 0, 0])\n",
    "    \n",
    "\n",
    "    # Perform the final difference operation, subtracting the children\n",
    "    model = (main_body + upper_part_shape).translate([0, tab_height, 0]) - children\n",
    "        \n",
    "    return model\n"
   ]
  },
  {
   "cell_type": "code",
   "execution_count": 66,
   "id": "6d478925-14c5-4711-9e79-48196343a603",
   "metadata": {},
   "outputs": [],
   "source": [
    "# Define some objects to act as \"children\"\n",
    "subtraction_cylinder = cylinder(r=2, h=20).translate([5, 5, -5])\n",
    "subtraction_cube = cube([2, 2, 20]).translate([1, 1, -5])\n",
    "\n",
    "# Create the divider tab, subtracting the defined shapes\n",
    "divider_tab = make_divider_tab(\n",
    "    tab_height=40, \n",
    "    tab_length=100, \n",
    "    thickness=3, \n",
    "    tab_radius=2,\n",
    "    children=[]\n",
    ")"
   ]
  },
  {
   "cell_type": "code",
   "execution_count": 67,
   "id": "be325997-7fa5-467f-b8a6-ad54a972d96b",
   "metadata": {},
   "outputs": [
    {
     "data": {
      "application/vnd.jupyter.widget-view+json": {
       "model_id": "6b61afa783c14067a6c7c895aec82fb0",
       "version_major": 2,
       "version_minor": 0
      },
      "text/plain": [
       "Renderer(camera=PerspectiveCamera(children=(DirectionalLight(color='white', intensity=0.7, position=(3.0, 5.0,…"
      ]
     },
     "execution_count": 67,
     "metadata": {},
     "output_type": "execute_result"
    }
   ],
   "source": [
    "view(divider_tab)"
   ]
  },
  {
   "cell_type": "code",
   "execution_count": null,
   "id": "14271241-bcf8-47f2-8bd2-b7f087662a46",
   "metadata": {},
   "outputs": [],
   "source": []
  }
 ],
 "metadata": {
  "kernelspec": {
   "display_name": "Python 3 (ipykernel)",
   "language": "python",
   "name": "python3"
  },
  "language_info": {
   "codemirror_mode": {
    "name": "ipython",
    "version": 3
   },
   "file_extension": ".py",
   "mimetype": "text/x-python",
   "name": "python",
   "nbconvert_exporter": "python",
   "pygments_lexer": "ipython3",
   "version": "3.12.6"
  }
 },
 "nbformat": 4,
 "nbformat_minor": 5
}
